{
  "cells": [
    {
      "cell_type": "markdown",
      "metadata": {
        "id": "T7ZNhGcW6q6r"
      },
      "source": [
        "# Student Loan Risk with Deep Learning"
      ]
    },
    {
      "cell_type": "code",
      "execution_count": 1,
      "metadata": {
        "id": "0otrXpJc6q6u"
      },
      "outputs": [
        {
          "name": "stderr",
          "output_type": "stream",
          "text": [
            "2025-04-10 21:55:57.924528: I tensorflow/core/platform/cpu_feature_guard.cc:210] This TensorFlow binary is optimized to use available CPU instructions in performance-critical operations.\n",
            "To enable the following instructions: AVX2 FMA, in other operations, rebuild TensorFlow with the appropriate compiler flags.\n"
          ]
        }
      ],
      "source": [
        "# Imports\n",
        "import pandas as pd\n",
        "import tensorflow as tf\n",
        "from tensorflow.keras.layers import Dense\n",
        "from tensorflow.keras.models import Sequential\n",
        "from sklearn.model_selection import train_test_split\n",
        "from sklearn.preprocessing import StandardScaler\n",
        "from sklearn.metrics import classification_report\n",
        "from pathlib import Path"
      ]
    },
    {
      "cell_type": "markdown",
      "metadata": {
        "id": "OpV4Y-3Z6q6w"
      },
      "source": [
        "---\n",
        "\n",
        "## Prepare the data to be used on a neural network model"
      ]
    },
    {
      "cell_type": "markdown",
      "metadata": {
        "id": "TUuSzp2l6q6w"
      },
      "source": [
        "### Step 1: Read the `student-loans.csv` file into a Pandas DataFrame. Review the DataFrame, looking for columns that could eventually define your features and target variables.   "
      ]
    },
    {
      "cell_type": "code",
      "execution_count": 2,
      "metadata": {
        "colab": {
          "base_uri": "https://localhost:8080/",
          "height": 226
        },
        "id": "G65km1KD6q6x",
        "outputId": "93d12d8d-c415-4017-8452-5b4966e4dde5"
      },
      "outputs": [
        {
          "data": {
            "text/html": [
              "<div>\n",
              "<style scoped>\n",
              "    .dataframe tbody tr th:only-of-type {\n",
              "        vertical-align: middle;\n",
              "    }\n",
              "\n",
              "    .dataframe tbody tr th {\n",
              "        vertical-align: top;\n",
              "    }\n",
              "\n",
              "    .dataframe thead th {\n",
              "        text-align: right;\n",
              "    }\n",
              "</style>\n",
              "<table border=\"1\" class=\"dataframe\">\n",
              "  <thead>\n",
              "    <tr style=\"text-align: right;\">\n",
              "      <th></th>\n",
              "      <th>payment_history</th>\n",
              "      <th>location_parameter</th>\n",
              "      <th>stem_degree_score</th>\n",
              "      <th>gpa_ranking</th>\n",
              "      <th>alumni_success</th>\n",
              "      <th>study_major_code</th>\n",
              "      <th>time_to_completion</th>\n",
              "      <th>finance_workshop_score</th>\n",
              "      <th>cohort_ranking</th>\n",
              "      <th>total_loan_score</th>\n",
              "      <th>financial_aid_score</th>\n",
              "      <th>credit_ranking</th>\n",
              "    </tr>\n",
              "  </thead>\n",
              "  <tbody>\n",
              "    <tr>\n",
              "      <th>0</th>\n",
              "      <td>7.4</td>\n",
              "      <td>0.70</td>\n",
              "      <td>0.00</td>\n",
              "      <td>1.9</td>\n",
              "      <td>0.076</td>\n",
              "      <td>11.0</td>\n",
              "      <td>34.0</td>\n",
              "      <td>0.9978</td>\n",
              "      <td>3.51</td>\n",
              "      <td>0.56</td>\n",
              "      <td>9.4</td>\n",
              "      <td>0</td>\n",
              "    </tr>\n",
              "    <tr>\n",
              "      <th>1</th>\n",
              "      <td>7.8</td>\n",
              "      <td>0.88</td>\n",
              "      <td>0.00</td>\n",
              "      <td>2.6</td>\n",
              "      <td>0.098</td>\n",
              "      <td>25.0</td>\n",
              "      <td>67.0</td>\n",
              "      <td>0.9968</td>\n",
              "      <td>3.20</td>\n",
              "      <td>0.68</td>\n",
              "      <td>9.8</td>\n",
              "      <td>0</td>\n",
              "    </tr>\n",
              "    <tr>\n",
              "      <th>2</th>\n",
              "      <td>7.8</td>\n",
              "      <td>0.76</td>\n",
              "      <td>0.04</td>\n",
              "      <td>2.3</td>\n",
              "      <td>0.092</td>\n",
              "      <td>15.0</td>\n",
              "      <td>54.0</td>\n",
              "      <td>0.9970</td>\n",
              "      <td>3.26</td>\n",
              "      <td>0.65</td>\n",
              "      <td>9.8</td>\n",
              "      <td>0</td>\n",
              "    </tr>\n",
              "    <tr>\n",
              "      <th>3</th>\n",
              "      <td>11.2</td>\n",
              "      <td>0.28</td>\n",
              "      <td>0.56</td>\n",
              "      <td>1.9</td>\n",
              "      <td>0.075</td>\n",
              "      <td>17.0</td>\n",
              "      <td>60.0</td>\n",
              "      <td>0.9980</td>\n",
              "      <td>3.16</td>\n",
              "      <td>0.58</td>\n",
              "      <td>9.8</td>\n",
              "      <td>1</td>\n",
              "    </tr>\n",
              "    <tr>\n",
              "      <th>4</th>\n",
              "      <td>7.4</td>\n",
              "      <td>0.70</td>\n",
              "      <td>0.00</td>\n",
              "      <td>1.9</td>\n",
              "      <td>0.076</td>\n",
              "      <td>11.0</td>\n",
              "      <td>34.0</td>\n",
              "      <td>0.9978</td>\n",
              "      <td>3.51</td>\n",
              "      <td>0.56</td>\n",
              "      <td>9.4</td>\n",
              "      <td>0</td>\n",
              "    </tr>\n",
              "  </tbody>\n",
              "</table>\n",
              "</div>"
            ],
            "text/plain": [
              "   payment_history  location_parameter  stem_degree_score  gpa_ranking  \\\n",
              "0              7.4                0.70               0.00          1.9   \n",
              "1              7.8                0.88               0.00          2.6   \n",
              "2              7.8                0.76               0.04          2.3   \n",
              "3             11.2                0.28               0.56          1.9   \n",
              "4              7.4                0.70               0.00          1.9   \n",
              "\n",
              "   alumni_success  study_major_code  time_to_completion  \\\n",
              "0           0.076              11.0                34.0   \n",
              "1           0.098              25.0                67.0   \n",
              "2           0.092              15.0                54.0   \n",
              "3           0.075              17.0                60.0   \n",
              "4           0.076              11.0                34.0   \n",
              "\n",
              "   finance_workshop_score  cohort_ranking  total_loan_score  \\\n",
              "0                  0.9978            3.51              0.56   \n",
              "1                  0.9968            3.20              0.68   \n",
              "2                  0.9970            3.26              0.65   \n",
              "3                  0.9980            3.16              0.58   \n",
              "4                  0.9978            3.51              0.56   \n",
              "\n",
              "   financial_aid_score  credit_ranking  \n",
              "0                  9.4               0  \n",
              "1                  9.8               0  \n",
              "2                  9.8               0  \n",
              "3                  9.8               1  \n",
              "4                  9.4               0  "
            ]
          },
          "execution_count": 2,
          "metadata": {},
          "output_type": "execute_result"
        }
      ],
      "source": [
        "# Read the csv into a Pandas DataFrame\n",
        "file_path = \"https://static.bc-edx.com/ai/ail-v-1-0/m18/lms/datasets/student-loans.csv\"\n",
        "loans_df = pd.read_csv(file_path)\n",
        "\n",
        "# Review the DataFrame\n",
        "loans_df.head()"
      ]
    },
    {
      "cell_type": "code",
      "execution_count": 3,
      "metadata": {
        "colab": {
          "base_uri": "https://localhost:8080/"
        },
        "id": "K8ZYB8wx6q6x",
        "outputId": "b509fc34-4488-406e-e451-2069fec37371"
      },
      "outputs": [
        {
          "data": {
            "text/plain": [
              "payment_history           float64\n",
              "location_parameter        float64\n",
              "stem_degree_score         float64\n",
              "gpa_ranking               float64\n",
              "alumni_success            float64\n",
              "study_major_code          float64\n",
              "time_to_completion        float64\n",
              "finance_workshop_score    float64\n",
              "cohort_ranking            float64\n",
              "total_loan_score          float64\n",
              "financial_aid_score       float64\n",
              "credit_ranking              int64\n",
              "dtype: object"
            ]
          },
          "execution_count": 3,
          "metadata": {},
          "output_type": "execute_result"
        }
      ],
      "source": [
        "# Review the data types associated with the columns\n",
        "loans_df.dtypes"
      ]
    },
    {
      "cell_type": "code",
      "execution_count": 4,
      "metadata": {
        "colab": {
          "base_uri": "https://localhost:8080/"
        },
        "id": "9P8aX-dW75JO",
        "outputId": "63251fa8-5ac1-4112-c2f7-bc5d97ea8491"
      },
      "outputs": [
        {
          "data": {
            "text/plain": [
              "credit_ranking\n",
              "1    855\n",
              "0    744\n",
              "Name: count, dtype: int64"
            ]
          },
          "execution_count": 4,
          "metadata": {},
          "output_type": "execute_result"
        }
      ],
      "source": [
        "# Check the credit_ranking value counts\n",
        "loans_df[\"credit_ranking\"].value_counts()"
      ]
    },
    {
      "cell_type": "markdown",
      "metadata": {
        "id": "R6vbZeDH6q6y"
      },
      "source": [
        "### Step 2: Using the preprocessed data, create the features (`X`) and target (`y`) datasets. The target dataset should be defined by the preprocessed DataFrame column “credit_ranking”. The remaining columns should define the features dataset."
      ]
    },
    {
      "cell_type": "code",
      "execution_count": 5,
      "metadata": {
        "colab": {
          "base_uri": "https://localhost:8080/"
        },
        "id": "Q5eVAP5M6q6y",
        "outputId": "89728bbf-6930-4573-a126-9f1b66ed8859"
      },
      "outputs": [
        {
          "name": "stdout",
          "output_type": "stream",
          "text": [
            "[0 0 0 1 0]\n"
          ]
        }
      ],
      "source": [
        "# Define the target set y using the credit_ranking column\n",
        "y = loans_df[\"credit_ranking\"].values\n",
        "\n",
        "# Display a sample of y\n",
        "print(y[:5])\n"
      ]
    },
    {
      "cell_type": "code",
      "execution_count": 6,
      "metadata": {
        "colab": {
          "base_uri": "https://localhost:8080/",
          "height": 226
        },
        "id": "IIkrD2Sn6q6z",
        "outputId": "ce07c4a3-fb81-4657-d11e-ec85ae8554c9"
      },
      "outputs": [
        {
          "data": {
            "text/html": [
              "<div>\n",
              "<style scoped>\n",
              "    .dataframe tbody tr th:only-of-type {\n",
              "        vertical-align: middle;\n",
              "    }\n",
              "\n",
              "    .dataframe tbody tr th {\n",
              "        vertical-align: top;\n",
              "    }\n",
              "\n",
              "    .dataframe thead th {\n",
              "        text-align: right;\n",
              "    }\n",
              "</style>\n",
              "<table border=\"1\" class=\"dataframe\">\n",
              "  <thead>\n",
              "    <tr style=\"text-align: right;\">\n",
              "      <th></th>\n",
              "      <th>payment_history</th>\n",
              "      <th>location_parameter</th>\n",
              "      <th>stem_degree_score</th>\n",
              "      <th>gpa_ranking</th>\n",
              "      <th>alumni_success</th>\n",
              "      <th>study_major_code</th>\n",
              "      <th>time_to_completion</th>\n",
              "      <th>finance_workshop_score</th>\n",
              "      <th>cohort_ranking</th>\n",
              "      <th>total_loan_score</th>\n",
              "      <th>financial_aid_score</th>\n",
              "    </tr>\n",
              "  </thead>\n",
              "  <tbody>\n",
              "    <tr>\n",
              "      <th>0</th>\n",
              "      <td>7.4</td>\n",
              "      <td>0.70</td>\n",
              "      <td>0.00</td>\n",
              "      <td>1.9</td>\n",
              "      <td>0.076</td>\n",
              "      <td>11.0</td>\n",
              "      <td>34.0</td>\n",
              "      <td>0.9978</td>\n",
              "      <td>3.51</td>\n",
              "      <td>0.56</td>\n",
              "      <td>9.4</td>\n",
              "    </tr>\n",
              "    <tr>\n",
              "      <th>1</th>\n",
              "      <td>7.8</td>\n",
              "      <td>0.88</td>\n",
              "      <td>0.00</td>\n",
              "      <td>2.6</td>\n",
              "      <td>0.098</td>\n",
              "      <td>25.0</td>\n",
              "      <td>67.0</td>\n",
              "      <td>0.9968</td>\n",
              "      <td>3.20</td>\n",
              "      <td>0.68</td>\n",
              "      <td>9.8</td>\n",
              "    </tr>\n",
              "    <tr>\n",
              "      <th>2</th>\n",
              "      <td>7.8</td>\n",
              "      <td>0.76</td>\n",
              "      <td>0.04</td>\n",
              "      <td>2.3</td>\n",
              "      <td>0.092</td>\n",
              "      <td>15.0</td>\n",
              "      <td>54.0</td>\n",
              "      <td>0.9970</td>\n",
              "      <td>3.26</td>\n",
              "      <td>0.65</td>\n",
              "      <td>9.8</td>\n",
              "    </tr>\n",
              "    <tr>\n",
              "      <th>3</th>\n",
              "      <td>11.2</td>\n",
              "      <td>0.28</td>\n",
              "      <td>0.56</td>\n",
              "      <td>1.9</td>\n",
              "      <td>0.075</td>\n",
              "      <td>17.0</td>\n",
              "      <td>60.0</td>\n",
              "      <td>0.9980</td>\n",
              "      <td>3.16</td>\n",
              "      <td>0.58</td>\n",
              "      <td>9.8</td>\n",
              "    </tr>\n",
              "    <tr>\n",
              "      <th>4</th>\n",
              "      <td>7.4</td>\n",
              "      <td>0.70</td>\n",
              "      <td>0.00</td>\n",
              "      <td>1.9</td>\n",
              "      <td>0.076</td>\n",
              "      <td>11.0</td>\n",
              "      <td>34.0</td>\n",
              "      <td>0.9978</td>\n",
              "      <td>3.51</td>\n",
              "      <td>0.56</td>\n",
              "      <td>9.4</td>\n",
              "    </tr>\n",
              "  </tbody>\n",
              "</table>\n",
              "</div>"
            ],
            "text/plain": [
              "   payment_history  location_parameter  stem_degree_score  gpa_ranking  \\\n",
              "0              7.4                0.70               0.00          1.9   \n",
              "1              7.8                0.88               0.00          2.6   \n",
              "2              7.8                0.76               0.04          2.3   \n",
              "3             11.2                0.28               0.56          1.9   \n",
              "4              7.4                0.70               0.00          1.9   \n",
              "\n",
              "   alumni_success  study_major_code  time_to_completion  \\\n",
              "0           0.076              11.0                34.0   \n",
              "1           0.098              25.0                67.0   \n",
              "2           0.092              15.0                54.0   \n",
              "3           0.075              17.0                60.0   \n",
              "4           0.076              11.0                34.0   \n",
              "\n",
              "   finance_workshop_score  cohort_ranking  total_loan_score  \\\n",
              "0                  0.9978            3.51              0.56   \n",
              "1                  0.9968            3.20              0.68   \n",
              "2                  0.9970            3.26              0.65   \n",
              "3                  0.9980            3.16              0.58   \n",
              "4                  0.9978            3.51              0.56   \n",
              "\n",
              "   financial_aid_score  \n",
              "0                  9.4  \n",
              "1                  9.8  \n",
              "2                  9.8  \n",
              "3                  9.8  \n",
              "4                  9.4  "
            ]
          },
          "execution_count": 6,
          "metadata": {},
          "output_type": "execute_result"
        }
      ],
      "source": [
        "# Define features set X by selecting all columns but credit_ranking\n",
        "X = loans_df.drop(columns=[\"credit_ranking\"])\n",
        "\n",
        "# Review the features DataFrame\n",
        "X.head()\n"
      ]
    },
    {
      "cell_type": "markdown",
      "metadata": {
        "id": "QmM9c-tj6q6z"
      },
      "source": [
        "### Step 3: Split the features and target sets into training and testing datasets.\n"
      ]
    },
    {
      "cell_type": "code",
      "execution_count": 7,
      "metadata": {
        "id": "OD7xwU_96q6z"
      },
      "outputs": [],
      "source": [
        "# Split the preprocessed data into a training and testing dataset\n",
        "# Assign the function a random_state equal to 1\n",
        "from sklearn.model_selection import train_test_split\n",
        "\n",
        "X_train, X_test, y_train, y_test = train_test_split(X, y, random_state=1)\n"
      ]
    },
    {
      "cell_type": "markdown",
      "metadata": {
        "id": "G9i6DHY06q6z"
      },
      "source": [
        "### Step 4: Use scikit-learn's `StandardScaler` to scale the features data."
      ]
    },
    {
      "cell_type": "code",
      "execution_count": 8,
      "metadata": {
        "id": "BzD3z20m6q6z"
      },
      "outputs": [],
      "source": [
        "# Create a StandardScaler instance\n",
        "scaler = StandardScaler()\n",
        "\n",
        "# Fit the scaler to the features training dataset\n",
        "X_train_scaled = scaler.fit_transform(X_train)\n",
        "\n",
        "# Scale the features test dataset\n",
        "X_test_scaled = scaler.transform(X_test)\n"
      ]
    },
    {
      "cell_type": "markdown",
      "metadata": {
        "id": "CZzVDjba6q6z"
      },
      "source": [
        "---\n",
        "\n",
        "## Compile and Evaluate a Model Using a Neural Network"
      ]
    },
    {
      "cell_type": "markdown",
      "metadata": {
        "id": "m-pSux4Q6q60"
      },
      "source": [
        "### Step 1: Create a deep neural network by assigning the number of input features, the number of layers, and the number of neurons on each layer using Tensorflow’s Keras.\n",
        "\n",
        "> **Hint** You can start with a two-layer deep neural network model that uses the `relu` activation function for both layers.\n"
      ]
    },
    {
      "cell_type": "code",
      "execution_count": 9,
      "metadata": {
        "colab": {
          "base_uri": "https://localhost:8080/"
        },
        "id": "t5C94FCd6q60",
        "outputId": "cbf05783-2f56-4745-cd33-649a6152e510"
      },
      "outputs": [
        {
          "name": "stdout",
          "output_type": "stream",
          "text": [
            "11\n"
          ]
        }
      ],
      "source": [
        "# Define the the number of inputs (features) to the model\n",
        "number_input_features = len(X_train.columns)\n",
        "\n",
        "# Review the number of features\n",
        "print(number_input_features)\n"
      ]
    },
    {
      "cell_type": "code",
      "execution_count": 10,
      "metadata": {
        "id": "c_KXDLkF6q60"
      },
      "outputs": [],
      "source": [
        "# Define the number of hidden nodes for the first hidden layer\n",
        "hidden_nodes_layer1 = 80\n",
        "\n",
        "# Define the number of hidden nodes for the second hidden layer\n",
        "hidden_nodes_layer2 = 30\n",
        "\n",
        "# Define the number of neurons in the output layer\n",
        "output_neurons = 1\n"
      ]
    },
    {
      "cell_type": "code",
      "execution_count": 11,
      "metadata": {
        "id": "63UdFncw6q60"
      },
      "outputs": [
        {
          "name": "stderr",
          "output_type": "stream",
          "text": [
            "/opt/anaconda3/lib/python3.12/site-packages/keras/src/layers/core/dense.py:87: UserWarning: Do not pass an `input_shape`/`input_dim` argument to a layer. When using Sequential models, prefer using an `Input(shape)` object as the first layer in the model instead.\n",
            "  super().__init__(activity_regularizer=activity_regularizer, **kwargs)\n"
          ]
        }
      ],
      "source": [
        "# Create the Sequential model instance\n",
        "nn = tf.keras.models.Sequential()\n",
        "\n",
        "# Add the first hidden layer\n",
        "nn.add(tf.keras.layers.Dense(units=hidden_nodes_layer1, activation=\"relu\", input_dim=number_input_features))\n",
        "\n",
        "# Add the second hidden layer\n",
        "nn.add(tf.keras.layers.Dense(units=hidden_nodes_layer2, activation=\"relu\"))\n",
        "\n",
        "# Add the output layer to the model specifying the number of output neurons and activation function\n",
        "nn.add(tf.keras.layers.Dense(units=output_neurons, activation=\"sigmoid\"))\n"
      ]
    },
    {
      "cell_type": "code",
      "execution_count": 12,
      "metadata": {
        "colab": {
          "base_uri": "https://localhost:8080/"
        },
        "id": "-Beoh4f_6q61",
        "outputId": "2e50f810-086b-4d89-bf7d-98afbe0d649d"
      },
      "outputs": [
        {
          "data": {
            "text/html": [
              "<pre style=\"white-space:pre;overflow-x:auto;line-height:normal;font-family:Menlo,'DejaVu Sans Mono',consolas,'Courier New',monospace\"><span style=\"font-weight: bold\">Model: \"sequential\"</span>\n",
              "</pre>\n"
            ],
            "text/plain": [
              "\u001b[1mModel: \"sequential\"\u001b[0m\n"
            ]
          },
          "metadata": {},
          "output_type": "display_data"
        },
        {
          "data": {
            "text/html": [
              "<pre style=\"white-space:pre;overflow-x:auto;line-height:normal;font-family:Menlo,'DejaVu Sans Mono',consolas,'Courier New',monospace\">┏━━━━━━━━━━━━━━━━━━━━━━━━━━━━━━━━━┳━━━━━━━━━━━━━━━━━━━━━━━━┳━━━━━━━━━━━━━━━┓\n",
              "┃<span style=\"font-weight: bold\"> Layer (type)                    </span>┃<span style=\"font-weight: bold\"> Output Shape           </span>┃<span style=\"font-weight: bold\">       Param # </span>┃\n",
              "┡━━━━━━━━━━━━━━━━━━━━━━━━━━━━━━━━━╇━━━━━━━━━━━━━━━━━━━━━━━━╇━━━━━━━━━━━━━━━┩\n",
              "│ dense (<span style=\"color: #0087ff; text-decoration-color: #0087ff\">Dense</span>)                   │ (<span style=\"color: #00d7ff; text-decoration-color: #00d7ff\">None</span>, <span style=\"color: #00af00; text-decoration-color: #00af00\">80</span>)             │           <span style=\"color: #00af00; text-decoration-color: #00af00\">960</span> │\n",
              "├─────────────────────────────────┼────────────────────────┼───────────────┤\n",
              "│ dense_1 (<span style=\"color: #0087ff; text-decoration-color: #0087ff\">Dense</span>)                 │ (<span style=\"color: #00d7ff; text-decoration-color: #00d7ff\">None</span>, <span style=\"color: #00af00; text-decoration-color: #00af00\">30</span>)             │         <span style=\"color: #00af00; text-decoration-color: #00af00\">2,430</span> │\n",
              "├─────────────────────────────────┼────────────────────────┼───────────────┤\n",
              "│ dense_2 (<span style=\"color: #0087ff; text-decoration-color: #0087ff\">Dense</span>)                 │ (<span style=\"color: #00d7ff; text-decoration-color: #00d7ff\">None</span>, <span style=\"color: #00af00; text-decoration-color: #00af00\">1</span>)              │            <span style=\"color: #00af00; text-decoration-color: #00af00\">31</span> │\n",
              "└─────────────────────────────────┴────────────────────────┴───────────────┘\n",
              "</pre>\n"
            ],
            "text/plain": [
              "┏━━━━━━━━━━━━━━━━━━━━━━━━━━━━━━━━━┳━━━━━━━━━━━━━━━━━━━━━━━━┳━━━━━━━━━━━━━━━┓\n",
              "┃\u001b[1m \u001b[0m\u001b[1mLayer (type)                   \u001b[0m\u001b[1m \u001b[0m┃\u001b[1m \u001b[0m\u001b[1mOutput Shape          \u001b[0m\u001b[1m \u001b[0m┃\u001b[1m \u001b[0m\u001b[1m      Param #\u001b[0m\u001b[1m \u001b[0m┃\n",
              "┡━━━━━━━━━━━━━━━━━━━━━━━━━━━━━━━━━╇━━━━━━━━━━━━━━━━━━━━━━━━╇━━━━━━━━━━━━━━━┩\n",
              "│ dense (\u001b[38;5;33mDense\u001b[0m)                   │ (\u001b[38;5;45mNone\u001b[0m, \u001b[38;5;34m80\u001b[0m)             │           \u001b[38;5;34m960\u001b[0m │\n",
              "├─────────────────────────────────┼────────────────────────┼───────────────┤\n",
              "│ dense_1 (\u001b[38;5;33mDense\u001b[0m)                 │ (\u001b[38;5;45mNone\u001b[0m, \u001b[38;5;34m30\u001b[0m)             │         \u001b[38;5;34m2,430\u001b[0m │\n",
              "├─────────────────────────────────┼────────────────────────┼───────────────┤\n",
              "│ dense_2 (\u001b[38;5;33mDense\u001b[0m)                 │ (\u001b[38;5;45mNone\u001b[0m, \u001b[38;5;34m1\u001b[0m)              │            \u001b[38;5;34m31\u001b[0m │\n",
              "└─────────────────────────────────┴────────────────────────┴───────────────┘\n"
            ]
          },
          "metadata": {},
          "output_type": "display_data"
        },
        {
          "data": {
            "text/html": [
              "<pre style=\"white-space:pre;overflow-x:auto;line-height:normal;font-family:Menlo,'DejaVu Sans Mono',consolas,'Courier New',monospace\"><span style=\"font-weight: bold\"> Total params: </span><span style=\"color: #00af00; text-decoration-color: #00af00\">3,421</span> (13.36 KB)\n",
              "</pre>\n"
            ],
            "text/plain": [
              "\u001b[1m Total params: \u001b[0m\u001b[38;5;34m3,421\u001b[0m (13.36 KB)\n"
            ]
          },
          "metadata": {},
          "output_type": "display_data"
        },
        {
          "data": {
            "text/html": [
              "<pre style=\"white-space:pre;overflow-x:auto;line-height:normal;font-family:Menlo,'DejaVu Sans Mono',consolas,'Courier New',monospace\"><span style=\"font-weight: bold\"> Trainable params: </span><span style=\"color: #00af00; text-decoration-color: #00af00\">3,421</span> (13.36 KB)\n",
              "</pre>\n"
            ],
            "text/plain": [
              "\u001b[1m Trainable params: \u001b[0m\u001b[38;5;34m3,421\u001b[0m (13.36 KB)\n"
            ]
          },
          "metadata": {},
          "output_type": "display_data"
        },
        {
          "data": {
            "text/html": [
              "<pre style=\"white-space:pre;overflow-x:auto;line-height:normal;font-family:Menlo,'DejaVu Sans Mono',consolas,'Courier New',monospace\"><span style=\"font-weight: bold\"> Non-trainable params: </span><span style=\"color: #00af00; text-decoration-color: #00af00\">0</span> (0.00 B)\n",
              "</pre>\n"
            ],
            "text/plain": [
              "\u001b[1m Non-trainable params: \u001b[0m\u001b[38;5;34m0\u001b[0m (0.00 B)\n"
            ]
          },
          "metadata": {},
          "output_type": "display_data"
        }
      ],
      "source": [
        "# Display the Sequential model summary\n",
        "nn.summary()"
      ]
    },
    {
      "cell_type": "markdown",
      "metadata": {
        "id": "nRqWGIRo6q61"
      },
      "source": [
        "### Step 2: Compile and fit the model using the `binary_crossentropy` loss function, the `adam` optimizer, and the `accuracy` evaluation metric.\n"
      ]
    },
    {
      "cell_type": "code",
      "execution_count": 13,
      "metadata": {
        "id": "E-hZaeSn6q61"
      },
      "outputs": [],
      "source": [
        "# Compile the Sequential model\n",
        "nn.compile(loss=\"binary_crossentropy\", optimizer=\"adam\", metrics=[\"accuracy\"])\n"
      ]
    },
    {
      "cell_type": "code",
      "execution_count": 14,
      "metadata": {
        "colab": {
          "base_uri": "https://localhost:8080/"
        },
        "id": "x25e8Idc6q61",
        "outputId": "e95946ba-23da-47a3-a1c1-5e9a2a484a47"
      },
      "outputs": [
        {
          "name": "stdout",
          "output_type": "stream",
          "text": [
            "Epoch 1/50\n",
            "38/38 - 1s - 33ms/step - accuracy: 0.6756 - loss: 0.6130\n",
            "Epoch 2/50\n",
            "38/38 - 0s - 3ms/step - accuracy: 0.7339 - loss: 0.5343\n",
            "Epoch 3/50\n",
            "38/38 - 0s - 4ms/step - accuracy: 0.7406 - loss: 0.5168\n",
            "Epoch 4/50\n",
            "38/38 - 0s - 2ms/step - accuracy: 0.7515 - loss: 0.5050\n",
            "Epoch 5/50\n",
            "38/38 - 0s - 2ms/step - accuracy: 0.7606 - loss: 0.4962\n",
            "Epoch 6/50\n",
            "38/38 - 0s - 3ms/step - accuracy: 0.7606 - loss: 0.4895\n",
            "Epoch 7/50\n",
            "38/38 - 0s - 4ms/step - accuracy: 0.7673 - loss: 0.4843\n",
            "Epoch 8/50\n",
            "38/38 - 0s - 3ms/step - accuracy: 0.7681 - loss: 0.4801\n",
            "Epoch 9/50\n",
            "38/38 - 0s - 3ms/step - accuracy: 0.7740 - loss: 0.4740\n",
            "Epoch 10/50\n",
            "38/38 - 0s - 3ms/step - accuracy: 0.7740 - loss: 0.4692\n",
            "Epoch 11/50\n",
            "38/38 - 0s - 3ms/step - accuracy: 0.7815 - loss: 0.4645\n",
            "Epoch 12/50\n",
            "38/38 - 0s - 3ms/step - accuracy: 0.7882 - loss: 0.4613\n",
            "Epoch 13/50\n",
            "38/38 - 0s - 3ms/step - accuracy: 0.7898 - loss: 0.4592\n",
            "Epoch 14/50\n",
            "38/38 - 0s - 3ms/step - accuracy: 0.7915 - loss: 0.4556\n",
            "Epoch 15/50\n",
            "38/38 - 0s - 3ms/step - accuracy: 0.7815 - loss: 0.4514\n",
            "Epoch 16/50\n",
            "38/38 - 0s - 3ms/step - accuracy: 0.7957 - loss: 0.4486\n",
            "Epoch 17/50\n",
            "38/38 - 0s - 3ms/step - accuracy: 0.7973 - loss: 0.4438\n",
            "Epoch 18/50\n",
            "38/38 - 0s - 3ms/step - accuracy: 0.7915 - loss: 0.4415\n",
            "Epoch 19/50\n",
            "38/38 - 0s - 3ms/step - accuracy: 0.7948 - loss: 0.4393\n",
            "Epoch 20/50\n",
            "38/38 - 0s - 3ms/step - accuracy: 0.7982 - loss: 0.4343\n",
            "Epoch 21/50\n",
            "38/38 - 0s - 3ms/step - accuracy: 0.7990 - loss: 0.4318\n",
            "Epoch 22/50\n",
            "38/38 - 0s - 3ms/step - accuracy: 0.8048 - loss: 0.4276\n",
            "Epoch 23/50\n",
            "38/38 - 0s - 4ms/step - accuracy: 0.7998 - loss: 0.4245\n",
            "Epoch 24/50\n",
            "38/38 - 0s - 3ms/step - accuracy: 0.8082 - loss: 0.4198\n",
            "Epoch 25/50\n",
            "38/38 - 0s - 3ms/step - accuracy: 0.8090 - loss: 0.4186\n",
            "Epoch 26/50\n",
            "38/38 - 0s - 3ms/step - accuracy: 0.8023 - loss: 0.4146\n",
            "Epoch 27/50\n",
            "38/38 - 0s - 3ms/step - accuracy: 0.8148 - loss: 0.4147\n",
            "Epoch 28/50\n",
            "38/38 - 0s - 3ms/step - accuracy: 0.8132 - loss: 0.4093\n",
            "Epoch 29/50\n",
            "38/38 - 0s - 3ms/step - accuracy: 0.8140 - loss: 0.4085\n",
            "Epoch 30/50\n",
            "38/38 - 0s - 3ms/step - accuracy: 0.8240 - loss: 0.3997\n",
            "Epoch 31/50\n",
            "38/38 - 0s - 3ms/step - accuracy: 0.8215 - loss: 0.4015\n",
            "Epoch 32/50\n",
            "38/38 - 0s - 3ms/step - accuracy: 0.8299 - loss: 0.3955\n",
            "Epoch 33/50\n",
            "38/38 - 0s - 5ms/step - accuracy: 0.8324 - loss: 0.3929\n",
            "Epoch 34/50\n",
            "38/38 - 0s - 3ms/step - accuracy: 0.8232 - loss: 0.3903\n",
            "Epoch 35/50\n",
            "38/38 - 0s - 3ms/step - accuracy: 0.8240 - loss: 0.3895\n",
            "Epoch 36/50\n",
            "38/38 - 0s - 3ms/step - accuracy: 0.8315 - loss: 0.3873\n",
            "Epoch 37/50\n",
            "38/38 - 0s - 3ms/step - accuracy: 0.8290 - loss: 0.3786\n",
            "Epoch 38/50\n",
            "38/38 - 0s - 3ms/step - accuracy: 0.8365 - loss: 0.3746\n",
            "Epoch 39/50\n",
            "38/38 - 0s - 3ms/step - accuracy: 0.8324 - loss: 0.3740\n",
            "Epoch 40/50\n",
            "38/38 - 0s - 3ms/step - accuracy: 0.8432 - loss: 0.3703\n",
            "Epoch 41/50\n",
            "38/38 - 0s - 3ms/step - accuracy: 0.8332 - loss: 0.3669\n",
            "Epoch 42/50\n",
            "38/38 - 0s - 3ms/step - accuracy: 0.8440 - loss: 0.3605\n",
            "Epoch 43/50\n",
            "38/38 - 0s - 3ms/step - accuracy: 0.8365 - loss: 0.3652\n",
            "Epoch 44/50\n",
            "38/38 - 0s - 3ms/step - accuracy: 0.8449 - loss: 0.3552\n",
            "Epoch 45/50\n",
            "38/38 - 0s - 3ms/step - accuracy: 0.8482 - loss: 0.3551\n",
            "Epoch 46/50\n",
            "38/38 - 0s - 4ms/step - accuracy: 0.8490 - loss: 0.3507\n",
            "Epoch 47/50\n",
            "38/38 - 0s - 3ms/step - accuracy: 0.8440 - loss: 0.3471\n",
            "Epoch 48/50\n",
            "38/38 - 0s - 3ms/step - accuracy: 0.8557 - loss: 0.3438\n",
            "Epoch 49/50\n",
            "38/38 - 0s - 3ms/step - accuracy: 0.8532 - loss: 0.3392\n",
            "Epoch 50/50\n",
            "38/38 - 0s - 3ms/step - accuracy: 0.8490 - loss: 0.3380\n"
          ]
        }
      ],
      "source": [
        "# Fit the model using 50 epochs and the training data\n",
        "fit_model = nn.fit(X_train_scaled, y_train, epochs=50, verbose=2)\n"
      ]
    },
    {
      "cell_type": "markdown",
      "metadata": {
        "id": "RfHMPZVI6q61"
      },
      "source": [
        "### Step 3: Evaluate the model using the test data to determine the model’s loss and accuracy.\n"
      ]
    },
    {
      "cell_type": "code",
      "execution_count": 15,
      "metadata": {
        "colab": {
          "base_uri": "https://localhost:8080/"
        },
        "id": "5hfVADKo6q61",
        "outputId": "7df473ad-3301-4b49-e5c3-16e1687cc1cf"
      },
      "outputs": [
        {
          "name": "stdout",
          "output_type": "stream",
          "text": [
            "13/13 - 0s - 16ms/step - accuracy: 0.7550 - loss: 0.5296\n",
            "Loss: 0.530, Accuracy: 0.755\n"
          ]
        }
      ],
      "source": [
        "# Evaluate the model loss and accuracy metrics using the evaluate method and the test data\n",
        "model_loss, model_accuracy = nn.evaluate(X_test_scaled, y_test, verbose=2)\n",
        "\n",
        "# Display the model loss and accuracy results\n",
        "print(f\"Loss: {model_loss:.3f}, Accuracy: {model_accuracy:.3f}\")\n"
      ]
    },
    {
      "cell_type": "markdown",
      "metadata": {
        "id": "jpAv0rXA6q61"
      },
      "source": [
        "### Step 4: Save and export your model to a keras file, and name the file `student_loans.keras`.\n"
      ]
    },
    {
      "cell_type": "code",
      "execution_count": 16,
      "metadata": {
        "id": "q0MetN0W6q61"
      },
      "outputs": [],
      "source": [
        "# Set the model's file path\n",
        "model_path = \"student_loans.keras\"\n",
        "\n",
        "# Export your model to a keras file\n",
        "nn.save(model_path)\n"
      ]
    },
    {
      "cell_type": "markdown",
      "metadata": {
        "id": "R1opCDdN6q61"
      },
      "source": [
        "---\n",
        "## Predict Loan Repayment Success by Using your Neural Network Model"
      ]
    },
    {
      "cell_type": "markdown",
      "metadata": {
        "id": "TfIfpeiy6q61"
      },
      "source": [
        "### Step 1: Reload your saved model."
      ]
    },
    {
      "cell_type": "code",
      "execution_count": 17,
      "metadata": {
        "id": "OCET2mvW6q61"
      },
      "outputs": [],
      "source": [
        "# Set the model's file path\n",
        "model_path = \"student_loans.keras\"\n",
        "\n",
        "# Load the model to a new object\n",
        "from tensorflow import keras\n",
        "loaded_model = keras.models.load_model(model_path)\n"
      ]
    },
    {
      "cell_type": "markdown",
      "metadata": {
        "id": "rTPKooGw6q61"
      },
      "source": [
        "### Step 2: Make predictions on the testing data and save the predictions to a DataFrame."
      ]
    },
    {
      "cell_type": "code",
      "execution_count": 18,
      "metadata": {
        "colab": {
          "base_uri": "https://localhost:8080/"
        },
        "id": "Vet7qjgx6q62",
        "outputId": "0925af42-7e12-4978-8396-2a2c1580e1eb"
      },
      "outputs": [
        {
          "name": "stdout",
          "output_type": "stream",
          "text": [
            "\u001b[1m13/13\u001b[0m \u001b[32m━━━━━━━━━━━━━━━━━━━━\u001b[0m\u001b[37m\u001b[0m \u001b[1m0s\u001b[0m 6ms/step\n",
            "\n",
            "\n",
            "[[0.09170232]\n",
            " [0.43779826]\n",
            " [0.9296667 ]\n",
            " [0.7867446 ]\n",
            " [0.9930724 ]]\n"
          ]
        }
      ],
      "source": [
        "# Make predictions with the test data\n",
        "predictions = loaded_model.predict(X_test_scaled)\n",
        "\n",
        "# Display a sample of the predictions\n",
        "print(\"\\n\")\n",
        "print(predictions[:5])\n"
      ]
    },
    {
      "cell_type": "code",
      "execution_count": 19,
      "metadata": {
        "colab": {
          "base_uri": "https://localhost:8080/",
          "height": 424
        },
        "id": "87o8exFPhjfl",
        "outputId": "da5339c5-cea7-43e4-ec22-e168ea16dfa2"
      },
      "outputs": [
        {
          "data": {
            "text/html": [
              "<div>\n",
              "<style scoped>\n",
              "    .dataframe tbody tr th:only-of-type {\n",
              "        vertical-align: middle;\n",
              "    }\n",
              "\n",
              "    .dataframe tbody tr th {\n",
              "        vertical-align: top;\n",
              "    }\n",
              "\n",
              "    .dataframe thead th {\n",
              "        text-align: right;\n",
              "    }\n",
              "</style>\n",
              "<table border=\"1\" class=\"dataframe\">\n",
              "  <thead>\n",
              "    <tr style=\"text-align: right;\">\n",
              "      <th></th>\n",
              "      <th>0</th>\n",
              "      <th>credit_ranking</th>\n",
              "    </tr>\n",
              "  </thead>\n",
              "  <tbody>\n",
              "    <tr>\n",
              "      <th>0</th>\n",
              "      <td>0.091702</td>\n",
              "      <td>0</td>\n",
              "    </tr>\n",
              "    <tr>\n",
              "      <th>1</th>\n",
              "      <td>0.437798</td>\n",
              "      <td>1</td>\n",
              "    </tr>\n",
              "    <tr>\n",
              "      <th>2</th>\n",
              "      <td>0.929667</td>\n",
              "      <td>1</td>\n",
              "    </tr>\n",
              "    <tr>\n",
              "      <th>3</th>\n",
              "      <td>0.786745</td>\n",
              "      <td>1</td>\n",
              "    </tr>\n",
              "    <tr>\n",
              "      <th>4</th>\n",
              "      <td>0.993072</td>\n",
              "      <td>1</td>\n",
              "    </tr>\n",
              "  </tbody>\n",
              "</table>\n",
              "</div>"
            ],
            "text/plain": [
              "          0  credit_ranking\n",
              "0  0.091702               0\n",
              "1  0.437798               1\n",
              "2  0.929667               1\n",
              "3  0.786745               1\n",
              "4  0.993072               1"
            ]
          },
          "execution_count": 19,
          "metadata": {},
          "output_type": "execute_result"
        }
      ],
      "source": [
        "# Save the predictions to a DataFrame and round the predictions to binary results\n",
        "predictions_df = pd.DataFrame(predictions)\n",
        "predictions_df[\"credit_ranking\"] = y_test\n",
        "predictions_df.head()\n"
      ]
    },
    {
      "cell_type": "markdown",
      "metadata": {
        "id": "oxxLwycg6q62"
      },
      "source": [
        "### Step 4: Display a classification report with the y test data and predictions"
      ]
    },
    {
      "cell_type": "code",
      "execution_count": 20,
      "metadata": {
        "colab": {
          "base_uri": "https://localhost:8080/"
        },
        "id": "UTxYZibW6q67",
        "outputId": "f341b396-9b4c-478c-dba8-f6d904ba10e3"
      },
      "outputs": [
        {
          "name": "stdout",
          "output_type": "stream",
          "text": [
            "\n",
            "Classification Report:\n",
            "              precision    recall  f1-score   support\n",
            "\n",
            "           0       0.74      0.74      0.74       188\n",
            "           1       0.77      0.77      0.77       212\n",
            "\n",
            "    accuracy                           0.76       400\n",
            "   macro avg       0.75      0.75      0.75       400\n",
            "weighted avg       0.76      0.76      0.76       400\n",
            "\n"
          ]
        }
      ],
      "source": [
        "# Print the classification report with the y test data and predictions\n",
        "from sklearn.metrics import classification_report\n",
        "\n",
        "# Convert predictions to binary (0 or 1) using 0.5 as threshold\n",
        "predictions_binary = (predictions > 0.5).astype(int)\n",
        "\n",
        "# Generate and print the classification report\n",
        "print(\"\\nClassification Report:\")\n",
        "print(classification_report(y_test, predictions_binary))\n"
      ]
    },
    {
      "cell_type": "markdown",
      "metadata": {
        "id": "8Aaof1tBtcp6"
      },
      "source": [
        "---\n",
        "## Discuss creating a recommendation system for student loans"
      ]
    },
    {
      "cell_type": "markdown",
      "metadata": {
        "id": "_CC8cNpNtcp6"
      },
      "source": [
        "Briefly answer the following questions in the space provided:\n",
        "\n",
        "1. Describe the data that you would need to collect to build a recommendation system to recommend student loan options for students. Explain why this data would be relevant and appropriate.\n",
        "\n",
        "2. Based on the data you chose to use in this recommendation system, would your model be using collaborative filtering, content-based filtering, or context-based filtering? Justify why the data you selected would be suitable for your choice of filtering method.\n",
        "\n",
        "3. Describe two real-world challenges that you would take into consideration while building a recommendation system for student loans. Explain why these challenges would be of concern for a student loan recommendation system.\n",
        "**1. Describe the data that you would need to collect to build a recommendation system to recommend student loan options for students. Explain why this data would be relevant and appropriate.**\n",
        "\n",
        "\n",
        "**2. Based on the data you chose to use in this recommendation system, would your model be using collaborative filtering, content-based filtering, or context-based filtering? Justify why the data you selected would be suitable for your choice of filtering method.**\n",
        "\n",
        "\n",
        "**3. Describe two real-world challenges that you would take into consideration while building a recommendation system for student loans. Explain why these challenges would be of concern for a student loan recommendation system.**"
      ]
    },
    {
      "cell_type": "markdown",
      "metadata": {
        "id": "5KqIT8kYtcp6"
      },
      "source": [
        "1. Data Needed:\n",
        "Student Profile Data (academic, financial, personal info, educational goals)\n",
        "Loan Product Data (interest rates, terms, conditions, fees)\n",
        "Historical Performance Data (default rates, repayment success)\n",
        "2. Filtering Method:\n",
        "Context-based filtering because:\n",
        "Must consider multiple contextual factors simultaneously\n",
        "Each student's situation is unique\n",
        "Requires real-time, personalized recommendations\n",
        "Must adapt to changing circumstances\n",
        "3. Real-World Challenges:\n",
        "Data Privacy and Security:\n",
        "Sensitive financial/personal information\n",
        "Must comply with FERPA, GLBA, and privacy laws\n",
        "Security breaches could have severe consequences\n",
        "Ethical Considerations and Bias:\n",
        "Must avoid perpetuating inequalities\n",
        "Prevent discrimination based on protected characteristics\n",
        "Ensure fair access to favorable loan terms\n",
        "Critical due to long-term financial impact on students"
      ]
    }
  ],
  "metadata": {
    "colab": {
      "provenance": []
    },
    "kernelspec": {
      "display_name": "base",
      "language": "python",
      "name": "python3"
    },
    "language_info": {
      "codemirror_mode": {
        "name": "ipython",
        "version": 3
      },
      "file_extension": ".py",
      "mimetype": "text/x-python",
      "name": "python",
      "nbconvert_exporter": "python",
      "pygments_lexer": "ipython3",
      "version": "3.12.2"
    }
  },
  "nbformat": 4,
  "nbformat_minor": 0
}
